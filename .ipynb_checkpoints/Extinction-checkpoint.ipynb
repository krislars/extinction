{
 "cells": [
  {
   "cell_type": "markdown",
   "metadata": {},
   "source": [
    "# Extinction"
   ]
  },
  {
   "cell_type": "markdown",
   "metadata": {},
   "source": [
    "Define extinction as\n",
    "$$\n",
    "A_\\lambda = +2.5\\log\\left( \\frac{F_{\\lambda 0}}{F_\\lambda} \\right)\n",
    "$$\n",
    "\n",
    "So, the extinction function can be interpreted as extinguished flux by\n",
    "$$\n",
    "F_\\lambda = F_{\\lambda 0} 10^{-0.4A_\\lambda}.\n",
    "$$\n",
    "\n",
    "Many of us think about extinction in terms of magnitudes,\n",
    "$$\n",
    "\\Delta m = -2.5\\log\\left(\\int W_\\lambda F_\\lambda d\\lambda\\right) + 2.5\\log\\left(\\int W_\\lambda F_{\\lambda 0} d\\lambda \\right)\n",
    "$$\n",
    "\n",
    "$$\n",
    "= -2.5\\log\\left(\\int W_\\lambda F_{\\lambda 0} 10^{-0.4A_\\lambda} d\\lambda\\right) + 2.5\\log\\left(\\int W_\\lambda F_{\\lambda 0} d\\lambda \\right)\n",
    "$$\n",
    "\n",
    "$$\n",
    "= -2.5\\log\\left(\\frac{\\int W_\\lambda F_{\\lambda 0} 10^{-0.4A_\\lambda} d\\lambda}{\\int W_\\lambda F_{\\lambda 0} d\\lambda} \\right)\n",
    "$$\n",
    "\n",
    "\n",
    "The point here is that it is impossible to correctly calculate the magnitude extinction without the orginal flux.  If and only if the filter efficiency is constant in the band and the flux is constant in the band can one convert a \"theory extinction curve\" into magnitudes:\n",
    "$$\n",
    "\\Delta m = -2.5\\log\\left(\\frac{\\int 10^{-0.4A_\\lambda} d\\lambda}{\\int d\\lambda}\\right)\n",
    "$$\n",
    "\n",
    "As a shorthand, the average of $A_\\lambda$ in the band is the magnitude extinction.  In general, however, the band response and the source flux must be taken into consideration.  Many extinction curves have been determined to match photometry, not the other way around."
   ]
  },
  {
   "cell_type": "code",
   "execution_count": null,
   "metadata": {
    "collapsed": true
   },
   "outputs": [],
   "source": []
  }
 ],
 "metadata": {
  "kernelspec": {
   "display_name": "Python 3",
   "language": "python",
   "name": "python3"
  },
  "language_info": {
   "codemirror_mode": {
    "name": "ipython",
    "version": 3
   },
   "file_extension": ".py",
   "mimetype": "text/x-python",
   "name": "python",
   "nbconvert_exporter": "python",
   "pygments_lexer": "ipython3",
   "version": "3.6.1"
  }
 },
 "nbformat": 4,
 "nbformat_minor": 2
}
